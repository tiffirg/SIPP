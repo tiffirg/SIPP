{
 "cells": [
  {
   "attachments": {},
   "cell_type": "markdown",
   "metadata": {},
   "source": [
    "# Safe Interval Path Planning On a Grid :: SIPP Algorithm (based on A* with idea of safe intervals)"
   ]
  },
  {
   "attachments": {},
   "cell_type": "markdown",
   "metadata": {},
   "source": [
    "In this project, we will consider the problem of finding the fastest safe path on a graph with a special structure, widely used in robotics and computer games — a grid. The grid consists of both free and blocked cells, and an agent can move from one free cell to another. Our grid will also have some obstacles and they will be moving. Algortihm needs to find a route that does not intrfere with obstacles at any point in our discrete time\n",
    "\n",
    "\n"
   ]
  },
  {
   "cell_type": "code",
   "execution_count": 1,
   "metadata": {
    "tags": []
   },
   "outputs": [],
   "source": [
    "\n",
    "from typing import Callable, Iterable, Optional, Tuple, Type\n",
    "\n",
    "from node import Node\n",
    "from sipp_map import Map\n",
    "from search_tree import SearchTreePQD\n"
   ]
  },
  {
   "cell_type": "code",
   "execution_count": 2,
   "metadata": {},
   "outputs": [],
   "source": [
    "test_name = \"lak109d_75_0\""
   ]
  },
  {
   "cell_type": "code",
   "execution_count": 3,
   "metadata": {},
   "outputs": [],
   "source": [
    "task_path = f\"../data/{test_name}.xml\"\n",
    "log_path = f\"../logs/log_{test_name}.xml\""
   ]
  },
  {
   "cell_type": "code",
   "execution_count": 4,
   "metadata": {},
   "outputs": [
    {
     "name": "stderr",
     "output_type": "stream",
     "text": [
      "/opt/homebrew/lib/python3.11/site-packages/bs4/builder/__init__.py:545: XMLParsedAsHTMLWarning: It looks like you're parsing an XML document using an HTML parser. If this really is an HTML document (maybe it's XHTML?), you can ignore or filter this warning. If it's XML, you should know that using an XML parser will be more reliable. To parse this document as XML, make sure you have the lxml package installed, and pass the keyword argument `features=\"xml\"` into the BeautifulSoup constructor.\n",
      "  warnings.warn(\n"
     ]
    }
   ],
   "source": [
    "test_map = Map(task_path)"
   ]
  },
  {
   "attachments": {},
   "cell_type": "markdown",
   "metadata": {},
   "source": [
    "## SIPP ≈ A* Algorithm Without Reexpansions"
   ]
  },
  {
   "attachments": {},
   "cell_type": "markdown",
   "metadata": {},
   "source": [
    "The primary component of the `A*` algorithm is the heuristic function.\n",
    "\n",
    "Ideally, this function should be admissible (it never overestimates the true cost to the goal) and consistent (satisfies the triangle inequality). The Manhattan distance serves as an admissible and consistent heuristic for 4-connected grids. Therefore, if we integrate it into the `Dijkstra` search loop from the previous lab, we'll obtain the `A*` algorithm.\n",
    "\n",
    "Let's proceed!\n"
   ]
  },
  {
   "attachments": {},
   "cell_type": "markdown",
   "metadata": {},
   "source": [
    "The input for the `A*` algorithm implementation is the same as for `Dijkstra`:\n",
    "\n",
    "The input is:\n",
    "- map representation\n",
    "- start/goal cells\n",
    "- heuristic function $^*$\n",
    "- a reference to the implementation of the SearchTree\n",
    "\n",
    "The output is:\n",
    "- path found flag (`true` or `false`)\n",
    "- last node of the path (so one can unwind it using the parent-pointers and get the full path)\n",
    "- the number of steps (iterations of the main loop)\n",
    "- the number of nodes that compose the search tree at the final iteration of the algorithm (=the size of the resultant search tree)\n",
    "- OPEN and CLOSED (as iterable collections of nodes) for further visualization purposes\n",
    "\n",
    "\n",
    "PS: You might also want to display, at the final iteration, the number of OPEN duplicates encountered during the search, as shown below:\n",
    "\n",
    "```print(\"During the search, the following number of OPEN dublicates was encountered: \", ast.number_of_open_duplicates) ```\n"
   ]
  },
  {
   "cell_type": "code",
   "execution_count": 5,
   "metadata": {},
   "outputs": [],
   "source": [
    "def sipp(\n",
    "    task_map: Map,\n",
    "    start_i: int,\n",
    "    start_j: int,\n",
    "    goal_i: int,\n",
    "    goal_j: int,\n",
    "    heuristic_func: Callable,\n",
    "    search_tree: Type[SearchTreePQD],\n",
    ") -> Tuple[bool, Optional[Node], int, int, Optional[Iterable[Node]], Optional[Iterable[Node]]]:\n",
    "    \"\"\"\n",
    "    Implements the A* search algorithm.\n",
    "\n",
    "    Parameters\n",
    "    ----------\n",
    "    task_map : Map\n",
    "        The grid or map being searched.\n",
    "    start_i, start_j : int, int\n",
    "        Starting coordinates.\n",
    "    goal_i, goal_j : int, int\n",
    "        Goal coordinates.\n",
    "    heuristic_func : Callable\n",
    "        Heuristic function for estimating the distance from a node to the goal.\n",
    "    search_tree : Type[SearchTreePQD]\n",
    "        The search tree to use.\n",
    "\n",
    "    Returns\n",
    "    -------\n",
    "    Tuple[bool, Optional[Node], int, int, Optional[Iterable[Node]], Optional[Iterable[Node]]]\n",
    "        Tuple containing:\n",
    "        - A boolean indicating if a path was found.\n",
    "        - The last node in the found path or None.\n",
    "        - Number of algorithm iterations.\n",
    "        - Size of the resultant search tree.\n",
    "        - OPEN set nodes for visualization or None.\n",
    "        - CLOSED set nodes.\n",
    "    \"\"\"\n",
    "    ast = search_tree()\n",
    "    steps = 0\n",
    "\n",
    "    start_node = Node(start_i, start_j, interval=0, g=0, h=heuristic_func(start_i, start_j, goal_i, goal_j))\n",
    "    task_map.set_intervals(start_i, start_j)\n",
    "    ast.add_to_open(start_node)\n",
    "\n",
    "    while not ast.open_is_empty():\n",
    "        current = ast.get_best_node_from_open()\n",
    "\n",
    "        steps += 1\n",
    "\n",
    "        if current is None:\n",
    "            break\n",
    "\n",
    "        if current.i == goal_i and current.j == goal_j:  # is goal\n",
    "            return True, current, steps, len(ast), ast.opened, ast.expanded\n",
    "        \n",
    "        ast.add_to_closed(current)\n",
    "\n",
    "\n",
    "        for i, j, cost1, cost2, interval in task_map.get_successors(current):\n",
    "            new = Node(i, j, interval)\n",
    "            if not ast.was_expanded(new):\n",
    "\n",
    "                new.parent = current\n",
    "\n",
    "                new.h = heuristic_func(i, j, goal_i, goal_j)\n",
    "                new.g = max(current.g + cost1, cost2)\n",
    "                new.f = new.g + new.h\n",
    "\n",
    "                ast.add_to_open(new)\n",
    "\n",
    "    return False, None, steps, len(ast), None, ast.expanded"
   ]
  },
  {
   "cell_type": "code",
   "execution_count": 6,
   "metadata": {},
   "outputs": [],
   "source": [
    "_, current, steps, pathlen, opened, _ = sipp(test_map, test_map.start_j, test_map.start_i, test_map.goal_j, test_map.goal_i, test_map.get_distance, SearchTreePQD)"
   ]
  },
  {
   "cell_type": "markdown",
   "metadata": {},
   "source": [
    "## Восстановим путь"
   ]
  },
  {
   "cell_type": "code",
   "execution_count": 7,
   "metadata": {},
   "outputs": [],
   "source": [
    "\n",
    "lst = [current]\n",
    "while current.parent is not None:\n",
    "    lst.append(current.parent)\n",
    "    current = current.parent"
   ]
  },
  {
   "cell_type": "code",
   "execution_count": 8,
   "metadata": {},
   "outputs": [],
   "source": [
    "lst = list(reversed(lst))\n",
    "\n",
    "points = []"
   ]
  },
  {
   "cell_type": "code",
   "execution_count": 9,
   "metadata": {},
   "outputs": [],
   "source": [
    "for index, point in enumerate(lst):\n",
    "    \n",
    "    if index == 0:\n",
    "        points.append(point)\n",
    "        continue\n",
    "\n",
    "    if point.g - lst[index-1].g != 1:\n",
    "        time = lst[index-1].g + 1\n",
    "        while time < point.g:\n",
    "            points.append(Node(lst[index-1].i, lst[index-1].j, time, g=time))\n",
    "            time += 1\n",
    "    \n",
    "    points.append(point)\n"
   ]
  },
  {
   "cell_type": "markdown",
   "metadata": {},
   "source": [
    "## Visualisation"
   ]
  },
  {
   "cell_type": "code",
   "execution_count": 10,
   "metadata": {},
   "outputs": [],
   "source": [
    "with open(task_path, 'r') as f:\n",
    "    task = f.readlines()\n"
   ]
  },
  {
   "cell_type": "code",
   "execution_count": 11,
   "metadata": {},
   "outputs": [],
   "source": [
    "with open(log_path, 'w') as f:\n",
    "    print(''.join(task[:-1]), file=f)\n",
    "\n",
    "    print(\"    <log>\", file=f)\n",
    "    print(f\"        <summary pathlength=\\\"{len(points)}\\\" numberofsteps=\\\"{steps}\\\" nodescreated=\\\"{len(opened)}\\\" searchtime=\\\"1\\\"/>\", file=f)\n",
    "    print(\"        <path>\", file=f)\n",
    "\n",
    "    for el in points:\n",
    "        print(f\"            <point x=\\\"{el.j + 1}\\\" y=\\\"{el.i + 1}\\\" time=\\\"{el.g}\\\"/>\", file=f)\n",
    "\n",
    "    print(\"         </path>\", file=f)\n",
    "    print(\"    </log>\", file=f)\n",
    "    print(task[-1], file=f)"
   ]
  },
  {
   "cell_type": "markdown",
   "metadata": {},
   "source": [
    "To get video visualization ```python3 src/visualization/visualize.py logs/log_simple.xml -o outputs/output_file_log.mp4```"
   ]
  },
  {
   "cell_type": "markdown",
   "metadata": {},
   "source": []
  }
 ],
 "metadata": {
  "interpreter": {
   "hash": "aee8b7b246df8f9039afb4144a1f6fd8d2ca17a180786b69acc140d282b71a49"
  },
  "kernelspec": {
   "display_name": "Python 3 (ipykernel)",
   "language": "python",
   "name": "python3"
  },
  "language_info": {
   "codemirror_mode": {
    "name": "ipython",
    "version": 3
   },
   "file_extension": ".py",
   "mimetype": "text/x-python",
   "name": "python",
   "nbconvert_exporter": "python",
   "pygments_lexer": "ipython3",
   "version": "3.11.6"
  }
 },
 "nbformat": 4,
 "nbformat_minor": 4
}
